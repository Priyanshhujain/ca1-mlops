{
  "nbformat": 4,
  "nbformat_minor": 0,
  "metadata": {
    "colab": {
      "provenance": []
    },
    "kernelspec": {
      "name": "python3",
      "display_name": "Python 3"
    },
    "language_info": {
      "name": "python"
    }
  },
  "cells": [
    {
      "cell_type": "code",
      "source": [
        "import pandas as pd\n",
        "import random\n",
        "\n",
        "# Define sample data\n",
        "product_names = [\"Laptop\", \"Headphones\", \"Smartphone\", \"Camera\", \"Monitor\", \"Mouse\", \"Keyboard\"]\n",
        "categories = [\"Electronics\", \"Accessories\", \"Gadgets\", \"Cameras\"]\n",
        "\n",
        "# Function to generate random dataset\n",
        "def generate_dataset(num_samples):\n",
        "    data = {\n",
        "        \"Product_Name\": [random.choice(product_names) for _ in range(num_samples)],\n",
        "        \"Category\": [random.choice(categories) for _ in range(num_samples)],\n",
        "        \"Price\": [round(random.uniform(100, 2000), 2) for _ in range(num_samples)],  # Prices between 100 to 2000\n",
        "        \"Discount\": [round(random.uniform(5, 50), 2) for _ in range(num_samples)],  # Discounts between 5% to 50%\n",
        "        \"Sales_Quantity\": [random.randint(1, 100) for _ in range(num_samples)],  # Sales quantity between 1 to 100 units\n",
        "    }\n",
        "\n",
        "    # Calculate future price based on discount and sales quantity trends\n",
        "    df = pd.DataFrame(data)\n",
        "    df[\"Future_Price\"] = df[\"Price\"] * (1 - df[\"Discount\"] / 100)  # Future price after discount\n",
        "\n",
        "    return df\n",
        "\n",
        "# Generate dataset with 1000 rows\n",
        "ecommerce_data = generate_dataset(1000)\n",
        "\n",
        "# Save the dataset to a CSV file\n",
        "ecommerce_data.to_csv('ecommerce_data.csv', index=False)\n",
        "\n",
        "print(\"Dataset created and saved as 'ecommerce_data.csv'\")\n"
      ],
      "metadata": {
        "colab": {
          "base_uri": "https://localhost:8080/"
        },
        "id": "uQgxFrO57tbv",
        "outputId": "0638c510-cb24-4918-e997-6be507fff428"
      },
      "execution_count": 1,
      "outputs": [
        {
          "output_type": "stream",
          "name": "stdout",
          "text": [
            "Dataset created and saved as 'ecommerce_data.csv'\n"
          ]
        }
      ]
    },
    {
      "cell_type": "code",
      "execution_count": 2,
      "metadata": {
        "colab": {
          "base_uri": "https://localhost:8080/"
        },
        "id": "5n9CVRkz7XtS",
        "outputId": "399d4ce4-aed9-4610-b723-081ad5c6154d"
      },
      "outputs": [
        {
          "output_type": "stream",
          "name": "stdout",
          "text": [
            "Ridge R-squared score: 0.9678485495035304\n",
            "Lasso R-squared score: 0.9678136939772105\n",
            "ElasticNet R-squared score: 0.9680488036674549\n"
          ]
        }
      ],
      "source": [
        "# e_commerce_price_prediction.py\n",
        "\n",
        "import pandas as pd\n",
        "from sklearn.model_selection import train_test_split\n",
        "from sklearn.linear_model import Ridge, Lasso, ElasticNet\n",
        "from sklearn.metrics import r2_score\n",
        "from sklearn.ensemble import RandomForestRegressor\n",
        "from sklearn.model_selection import GridSearchCV\n",
        "\n",
        "# Step 1: Load Data (dummy dataset for illustration)\n",
        "data = pd.read_csv('/content/ecommerce_data.csv')\n",
        "\n",
        "# Step 2: Data Preprocessing (Feature selection and encoding)\n",
        "X = data[['Category', 'Price', 'Discount', 'Sales_Quantity']]\n",
        "y = data['Future_Price']\n",
        "\n",
        "# Optional: Convert categorical data to numeric using one-hot encoding\n",
        "X = pd.get_dummies(X, drop_first=True)\n",
        "\n",
        "# Step 3: Split into training and testing sets\n",
        "X_train, X_test, y_train, y_test = train_test_split(X, y, test_size=0.2, random_state=42)\n",
        "\n",
        "# Step 4: Define models\n",
        "ridge = Ridge()\n",
        "lasso = Lasso()\n",
        "elastic = ElasticNet()\n",
        "\n",
        "# Step 5: Use AutoML (GridSearch) to find the best model\n",
        "param_grid = {\n",
        "    'alpha': [0.01, 0.1, 1, 10, 100]\n",
        "}\n",
        "\n",
        "ridge_grid = GridSearchCV(ridge, param_grid, cv=5, scoring='r2')\n",
        "lasso_grid = GridSearchCV(lasso, param_grid, cv=5, scoring='r2')\n",
        "elastic_grid = GridSearchCV(elastic, param_grid, cv=5, scoring='r2')\n",
        "\n",
        "# Step 6: Train each model and find the best\n",
        "ridge_grid.fit(X_train, y_train)\n",
        "lasso_grid.fit(X_train, y_train)\n",
        "elastic_grid.fit(X_train, y_train)\n",
        "\n",
        "# Step 7: Evaluate Models\n",
        "models = {\n",
        "    \"Ridge\": ridge_grid,\n",
        "    \"Lasso\": lasso_grid,\n",
        "    \"ElasticNet\": elastic_grid\n",
        "}\n",
        "\n",
        "for name, model in models.items():\n",
        "    y_pred = model.predict(X_test)\n",
        "    print(f\"{name} R-squared score: {r2_score(y_test, y_pred)}\")\n"
      ]
    },
    {
      "cell_type": "code",
      "source": [],
      "metadata": {
        "id": "9j4MJabd73T8"
      },
      "execution_count": null,
      "outputs": []
    }
  ]
}